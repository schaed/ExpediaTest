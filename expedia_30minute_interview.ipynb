{
 "cells": [
  {
   "cell_type": "markdown",
   "metadata": {},
   "source": [
    "# loading the sales data into data frames to make summary tables and a few plots per region. I took around 30minutes to do this plus a little time to add notes and put onto github"
   ]
  },
  {
   "cell_type": "code",
   "execution_count": 5,
   "metadata": {},
   "outputs": [],
   "source": [
    "import pandas as pd;\n",
    "import numpy as np;\n",
    "df = pd.read_csv('expedia.csv')"
   ]
  },
  {
   "cell_type": "code",
   "execution_count": 34,
   "metadata": {},
   "outputs": [
    {
     "name": "stdout",
     "output_type": "stream",
     "text": [
      "Index(['employee_id', 'employee_super_region', 'year_nbr', 'month_nbr',\n",
      "       'active_days', 'interactions_count', 'pitches_count', 'wins_count'],\n",
      "      dtype='object')\n"
     ]
    }
   ],
   "source": [
    "df.describe()\n",
    "df.pitches_count = pd.to_numeric(df.pitches_count,errors='coerce')\n",
    "df.wins_count = pd.to_numeric(df.wins_count,errors='coerce')\n",
    "df = df[['employee_id', 'employee_super_region', 'year_nbr', 'month_nbr',\n",
    "       'active_days', 'interactions_count', 'pitches_count', 'wins_count']]\n",
    "print(df.columns)"
   ]
  },
  {
   "cell_type": "markdown",
   "metadata": {},
   "source": [
    "# evaluate by employee"
   ]
  },
  {
   "cell_type": "code",
   "execution_count": 55,
   "metadata": {},
   "outputs": [
    {
     "data": {
      "text/html": [
       "<div>\n",
       "<style scoped>\n",
       "    .dataframe tbody tr th:only-of-type {\n",
       "        vertical-align: middle;\n",
       "    }\n",
       "\n",
       "    .dataframe tbody tr th {\n",
       "        vertical-align: top;\n",
       "    }\n",
       "\n",
       "    .dataframe thead th {\n",
       "        text-align: right;\n",
       "    }\n",
       "</style>\n",
       "<table border=\"1\" class=\"dataframe\">\n",
       "  <thead>\n",
       "    <tr style=\"text-align: right;\">\n",
       "      <th></th>\n",
       "      <th>year_nbr</th>\n",
       "      <th>month_nbr</th>\n",
       "      <th>active_days</th>\n",
       "      <th>interactions_count</th>\n",
       "      <th>pitches_count</th>\n",
       "      <th>wins_count</th>\n",
       "      <th>win_per_day</th>\n",
       "      <th>win_per_int</th>\n",
       "      <th>win_per_pit</th>\n",
       "      <th>pit_per_day</th>\n",
       "      <th>pit_per_int</th>\n",
       "    </tr>\n",
       "  </thead>\n",
       "  <tbody>\n",
       "    <tr>\n",
       "      <th>count</th>\n",
       "      <td>1118.000000</td>\n",
       "      <td>1118.000000</td>\n",
       "      <td>1118.000000</td>\n",
       "      <td>1118.000000</td>\n",
       "      <td>1118.000000</td>\n",
       "      <td>1118.000000</td>\n",
       "      <td>1118.000000</td>\n",
       "      <td>1118.000000</td>\n",
       "      <td>1113.000000</td>\n",
       "      <td>1118.000000</td>\n",
       "      <td>1118.000000</td>\n",
       "    </tr>\n",
       "    <tr>\n",
       "      <th>mean</th>\n",
       "      <td>13713.652057</td>\n",
       "      <td>57.879249</td>\n",
       "      <td>88.616279</td>\n",
       "      <td>712.883721</td>\n",
       "      <td>1758.214669</td>\n",
       "      <td>419.192308</td>\n",
       "      <td>4.296552</td>\n",
       "      <td>0.579777</td>\n",
       "      <td>0.248201</td>\n",
       "      <td>17.828248</td>\n",
       "      <td>2.376413</td>\n",
       "    </tr>\n",
       "    <tr>\n",
       "      <th>std</th>\n",
       "      <td>4161.271010</td>\n",
       "      <td>17.256885</td>\n",
       "      <td>36.040716</td>\n",
       "      <td>375.561570</td>\n",
       "      <td>1073.418528</td>\n",
       "      <td>265.054626</td>\n",
       "      <td>2.179049</td>\n",
       "      <td>0.255524</td>\n",
       "      <td>0.108954</td>\n",
       "      <td>8.398987</td>\n",
       "      <td>0.705637</td>\n",
       "    </tr>\n",
       "    <tr>\n",
       "      <th>min</th>\n",
       "      <td>2020.000000</td>\n",
       "      <td>5.000000</td>\n",
       "      <td>1.000000</td>\n",
       "      <td>1.000000</td>\n",
       "      <td>0.000000</td>\n",
       "      <td>0.000000</td>\n",
       "      <td>0.000000</td>\n",
       "      <td>0.000000</td>\n",
       "      <td>0.000000</td>\n",
       "      <td>0.000000</td>\n",
       "      <td>0.000000</td>\n",
       "    </tr>\n",
       "    <tr>\n",
       "      <th>25%</th>\n",
       "      <td>12120.000000</td>\n",
       "      <td>57.000000</td>\n",
       "      <td>73.250000</td>\n",
       "      <td>511.250000</td>\n",
       "      <td>1084.500000</td>\n",
       "      <td>248.000000</td>\n",
       "      <td>2.985571</td>\n",
       "      <td>0.447092</td>\n",
       "      <td>0.194534</td>\n",
       "      <td>13.494774</td>\n",
       "      <td>2.000000</td>\n",
       "    </tr>\n",
       "    <tr>\n",
       "      <th>50%</th>\n",
       "      <td>16160.000000</td>\n",
       "      <td>68.000000</td>\n",
       "      <td>103.000000</td>\n",
       "      <td>743.000000</td>\n",
       "      <td>1732.500000</td>\n",
       "      <td>405.500000</td>\n",
       "      <td>4.143594</td>\n",
       "      <td>0.562496</td>\n",
       "      <td>0.237029</td>\n",
       "      <td>17.428015</td>\n",
       "      <td>2.362033</td>\n",
       "    </tr>\n",
       "    <tr>\n",
       "      <th>75%</th>\n",
       "      <td>16160.000000</td>\n",
       "      <td>68.000000</td>\n",
       "      <td>115.000000</td>\n",
       "      <td>964.000000</td>\n",
       "      <td>2408.750000</td>\n",
       "      <td>579.000000</td>\n",
       "      <td>5.488219</td>\n",
       "      <td>0.684795</td>\n",
       "      <td>0.283278</td>\n",
       "      <td>22.359497</td>\n",
       "      <td>2.735488</td>\n",
       "    </tr>\n",
       "    <tr>\n",
       "      <th>max</th>\n",
       "      <td>20200.000000</td>\n",
       "      <td>78.000000</td>\n",
       "      <td>138.000000</td>\n",
       "      <td>2175.000000</td>\n",
       "      <td>6035.000000</td>\n",
       "      <td>1589.000000</td>\n",
       "      <td>13.581197</td>\n",
       "      <td>3.000000</td>\n",
       "      <td>1.000000</td>\n",
       "      <td>63.481481</td>\n",
       "      <td>8.000000</td>\n",
       "    </tr>\n",
       "  </tbody>\n",
       "</table>\n",
       "</div>"
      ],
      "text/plain": [
       "           year_nbr    month_nbr  active_days  interactions_count  \\\n",
       "count   1118.000000  1118.000000  1118.000000         1118.000000   \n",
       "mean   13713.652057    57.879249    88.616279          712.883721   \n",
       "std     4161.271010    17.256885    36.040716          375.561570   \n",
       "min     2020.000000     5.000000     1.000000            1.000000   \n",
       "25%    12120.000000    57.000000    73.250000          511.250000   \n",
       "50%    16160.000000    68.000000   103.000000          743.000000   \n",
       "75%    16160.000000    68.000000   115.000000          964.000000   \n",
       "max    20200.000000    78.000000   138.000000         2175.000000   \n",
       "\n",
       "       pitches_count   wins_count  win_per_day  win_per_int  win_per_pit  \\\n",
       "count    1118.000000  1118.000000  1118.000000  1118.000000  1113.000000   \n",
       "mean     1758.214669   419.192308     4.296552     0.579777     0.248201   \n",
       "std      1073.418528   265.054626     2.179049     0.255524     0.108954   \n",
       "min         0.000000     0.000000     0.000000     0.000000     0.000000   \n",
       "25%      1084.500000   248.000000     2.985571     0.447092     0.194534   \n",
       "50%      1732.500000   405.500000     4.143594     0.562496     0.237029   \n",
       "75%      2408.750000   579.000000     5.488219     0.684795     0.283278   \n",
       "max      6035.000000  1589.000000    13.581197     3.000000     1.000000   \n",
       "\n",
       "       pit_per_day  pit_per_int  \n",
       "count  1118.000000  1118.000000  \n",
       "mean     17.828248     2.376413  \n",
       "std       8.398987     0.705637  \n",
       "min       0.000000     0.000000  \n",
       "25%      13.494774     2.000000  \n",
       "50%      17.428015     2.362033  \n",
       "75%      22.359497     2.735488  \n",
       "max      63.481481     8.000000  "
      ]
     },
     "execution_count": 55,
     "metadata": {},
     "output_type": "execute_result"
    }
   ],
   "source": [
    "df_employee = df.groupby('employee_id').sum()\n",
    "df_employee['win_per_day'] = df_employee.wins_count/df_employee.active_days\n",
    "df_employee['win_per_int'] = df_employee.wins_count/df_employee.interactions_count\n",
    "df_employee['win_per_pit'] = df_employee.wins_count/df_employee.pitches_count\n",
    "df_employee['pit_per_day'] = df_employee.pitches_count/df_employee.active_days\n",
    "df_employee['pit_per_int'] = df_employee.pitches_count/df_employee.interactions_count\n",
    "\n",
    "df_employee.describe()\n"
   ]
  },
  {
   "cell_type": "markdown",
   "metadata": {},
   "source": [
    "# General recommendations\n",
    "# Top 75% of employees have 5.5 or more wins per day\n",
    "# Top 75% have a win per interaction of 68%\n",
    "# Top 75% have wins per pitch of 28%\n",
    "# 2.7 pitches per interaction, so more pitches\n",
    "# 22.3 pitches/day"
   ]
  },
  {
   "cell_type": "markdown",
   "metadata": {},
   "source": [
    "# Started looking at some correlations to see if these are really good metrics. By this I mean does more pitches correlate with more wins. with a correlation of "
   ]
  },
  {
   "cell_type": "code",
   "execution_count": 56,
   "metadata": {},
   "outputs": [
    {
     "name": "stdout",
     "output_type": "stream",
     "text": [
      "                    year_nbr  month_nbr  active_days  interactions_count  \\\n",
      "year_nbr            1.000000   0.982687     0.910034            0.767464   \n",
      "month_nbr           0.982687   1.000000     0.915179            0.773436   \n",
      "active_days         0.910034   0.915179     1.000000            0.869463   \n",
      "interactions_count  0.767464   0.773436     0.869463            1.000000   \n",
      "pitches_count       0.684313   0.691820     0.783383            0.902368   \n",
      "wins_count          0.644296   0.652844     0.736159            0.848660   \n",
      "win_per_day         0.442559   0.459654     0.490005            0.654028   \n",
      "win_per_int         0.016927   0.036297     0.043049            0.061312   \n",
      "win_per_pit        -0.144291  -0.137722    -0.144344           -0.109880   \n",
      "pit_per_day         0.537574   0.551166     0.589686            0.762975   \n",
      "pit_per_int         0.205635   0.225571     0.243524            0.242126   \n",
      "\n",
      "                    pitches_count  wins_count  win_per_day  win_per_int  \\\n",
      "year_nbr                 0.684313    0.644296     0.442559     0.016927   \n",
      "month_nbr                0.691820    0.652844     0.459654     0.036297   \n",
      "active_days              0.783383    0.736159     0.490005     0.043049   \n",
      "interactions_count       0.902368    0.848660     0.654028     0.061312   \n",
      "pitches_count            1.000000    0.879546     0.718039     0.191896   \n",
      "wins_count               0.879546    1.000000     0.885332     0.383131   \n",
      "win_per_day              0.718039    0.885332     1.000000     0.566046   \n",
      "win_per_int              0.191896    0.383131     0.566046     1.000000   \n",
      "win_per_pit             -0.148413    0.100751     0.276588     0.691740   \n",
      "pit_per_day              0.906135    0.790760     0.806123     0.268395   \n",
      "pit_per_int              0.523424    0.405563     0.456653     0.518482   \n",
      "\n",
      "                    win_per_pit  pit_per_day  pit_per_int  \n",
      "year_nbr              -0.144291     0.537574     0.205635  \n",
      "month_nbr             -0.137722     0.551166     0.225571  \n",
      "active_days           -0.144344     0.589686     0.243524  \n",
      "interactions_count    -0.109880     0.762975     0.242126  \n",
      "pitches_count         -0.148413     0.906135     0.523424  \n",
      "wins_count             0.100751     0.790760     0.405563  \n",
      "win_per_day            0.276588     0.806123     0.456653  \n",
      "win_per_int            0.691740     0.268395     0.518482  \n",
      "win_per_pit            1.000000    -0.142242    -0.134618  \n",
      "pit_per_day           -0.142242     1.000000     0.635090  \n",
      "pit_per_int           -0.134618     0.635090     1.000000  \n"
     ]
    }
   ],
   "source": [
    "print(df_employee.corr())"
   ]
  },
  {
   "cell_type": "code",
   "execution_count": 48,
   "metadata": {},
   "outputs": [
    {
     "data": {
      "text/plain": [
       "array([[<AxesSubplot:title={'center':'win_per_pit'}>]], dtype=object)"
      ]
     },
     "execution_count": 48,
     "metadata": {},
     "output_type": "execute_result"
    },
    {
     "data": {
      "image/png": "[encoded data removed]",
      "text/plain": [
       "<Figure size 432x288 with 1 Axes>"
      ]
     },
     "metadata": {
      "needs_background": "light"
     },
     "output_type": "display_data"
    },
    {
     "data": {
      "image/png": "[encoded data removed]",
      "text/plain": [
       "<Figure size 432x288 with 1 Axes>"
      ]
     },
     "metadata": {
      "needs_background": "light"
     },
     "output_type": "display_data"
    },
    {
     "data": {
      "image/png": "[encoded data removed]",
      "text/plain": [
       "<Figure size 432x288 with 1 Axes>"
      ]
     },
     "metadata": {
      "needs_background": "light"
     },
     "output_type": "display_data"
    }
   ],
   "source": [
    "df_employee.hist('win_per_day')\n",
    "df_employee.hist('win_per_int')\n",
    "df_employee.hist('win_per_pit')\n"
   ]
  },
  {
   "cell_type": "code",
   "execution_count": 35,
   "metadata": {},
   "outputs": [
    {
     "data": {
      "text/html": [
       "<div>\n",
       "<style scoped>\n",
       "    .dataframe tbody tr th:only-of-type {\n",
       "        vertical-align: middle;\n",
       "    }\n",
       "\n",
       "    .dataframe tbody tr th {\n",
       "        vertical-align: top;\n",
       "    }\n",
       "\n",
       "    .dataframe thead th {\n",
       "        text-align: right;\n",
       "    }\n",
       "</style>\n",
       "<table border=\"1\" class=\"dataframe\">\n",
       "  <thead>\n",
       "    <tr style=\"text-align: right;\">\n",
       "      <th></th>\n",
       "      <th>year_nbr</th>\n",
       "      <th>month_nbr</th>\n",
       "      <th>active_days</th>\n",
       "      <th>interactions_count</th>\n",
       "      <th>pitches_count</th>\n",
       "      <th>wins_count</th>\n",
       "      <th>win_per_day</th>\n",
       "      <th>win_per_int</th>\n",
       "      <th>win_per_pit</th>\n",
       "    </tr>\n",
       "  </thead>\n",
       "  <tbody>\n",
       "    <tr>\n",
       "      <th>count</th>\n",
       "      <td>1118.000000</td>\n",
       "      <td>1118.000000</td>\n",
       "      <td>1118.000000</td>\n",
       "      <td>1118.000000</td>\n",
       "      <td>1118.000000</td>\n",
       "      <td>1118.000000</td>\n",
       "      <td>1118.000000</td>\n",
       "      <td>1118.000000</td>\n",
       "      <td>1113.000000</td>\n",
       "    </tr>\n",
       "    <tr>\n",
       "      <th>mean</th>\n",
       "      <td>13713.652057</td>\n",
       "      <td>57.879249</td>\n",
       "      <td>88.616279</td>\n",
       "      <td>712.883721</td>\n",
       "      <td>1758.214669</td>\n",
       "      <td>419.192308</td>\n",
       "      <td>4.296552</td>\n",
       "      <td>0.579777</td>\n",
       "      <td>0.248201</td>\n",
       "    </tr>\n",
       "    <tr>\n",
       "      <th>std</th>\n",
       "      <td>4161.271010</td>\n",
       "      <td>17.256885</td>\n",
       "      <td>36.040716</td>\n",
       "      <td>375.561570</td>\n",
       "      <td>1073.418528</td>\n",
       "      <td>265.054626</td>\n",
       "      <td>2.179049</td>\n",
       "      <td>0.255524</td>\n",
       "      <td>0.108954</td>\n",
       "    </tr>\n",
       "    <tr>\n",
       "      <th>min</th>\n",
       "      <td>2020.000000</td>\n",
       "      <td>5.000000</td>\n",
       "      <td>1.000000</td>\n",
       "      <td>1.000000</td>\n",
       "      <td>0.000000</td>\n",
       "      <td>0.000000</td>\n",
       "      <td>0.000000</td>\n",
       "      <td>0.000000</td>\n",
       "      <td>0.000000</td>\n",
       "    </tr>\n",
       "    <tr>\n",
       "      <th>25%</th>\n",
       "      <td>12120.000000</td>\n",
       "      <td>57.000000</td>\n",
       "      <td>73.250000</td>\n",
       "      <td>511.250000</td>\n",
       "      <td>1084.500000</td>\n",
       "      <td>248.000000</td>\n",
       "      <td>2.985571</td>\n",
       "      <td>0.447092</td>\n",
       "      <td>0.194534</td>\n",
       "    </tr>\n",
       "    <tr>\n",
       "      <th>50%</th>\n",
       "      <td>16160.000000</td>\n",
       "      <td>68.000000</td>\n",
       "      <td>103.000000</td>\n",
       "      <td>743.000000</td>\n",
       "      <td>1732.500000</td>\n",
       "      <td>405.500000</td>\n",
       "      <td>4.143594</td>\n",
       "      <td>0.562496</td>\n",
       "      <td>0.237029</td>\n",
       "    </tr>\n",
       "    <tr>\n",
       "      <th>75%</th>\n",
       "      <td>16160.000000</td>\n",
       "      <td>68.000000</td>\n",
       "      <td>115.000000</td>\n",
       "      <td>964.000000</td>\n",
       "      <td>2408.750000</td>\n",
       "      <td>579.000000</td>\n",
       "      <td>5.488219</td>\n",
       "      <td>0.684795</td>\n",
       "      <td>0.283278</td>\n",
       "    </tr>\n",
       "    <tr>\n",
       "      <th>max</th>\n",
       "      <td>20200.000000</td>\n",
       "      <td>78.000000</td>\n",
       "      <td>138.000000</td>\n",
       "      <td>2175.000000</td>\n",
       "      <td>6035.000000</td>\n",
       "      <td>1589.000000</td>\n",
       "      <td>13.581197</td>\n",
       "      <td>3.000000</td>\n",
       "      <td>1.000000</td>\n",
       "    </tr>\n",
       "  </tbody>\n",
       "</table>\n",
       "</div>"
      ],
      "text/plain": [
       "           year_nbr    month_nbr  active_days  interactions_count  \\\n",
       "count   1118.000000  1118.000000  1118.000000         1118.000000   \n",
       "mean   13713.652057    57.879249    88.616279          712.883721   \n",
       "std     4161.271010    17.256885    36.040716          375.561570   \n",
       "min     2020.000000     5.000000     1.000000            1.000000   \n",
       "25%    12120.000000    57.000000    73.250000          511.250000   \n",
       "50%    16160.000000    68.000000   103.000000          743.000000   \n",
       "75%    16160.000000    68.000000   115.000000          964.000000   \n",
       "max    20200.000000    78.000000   138.000000         2175.000000   \n",
       "\n",
       "       pitches_count   wins_count  win_per_day  win_per_int  win_per_pit  \n",
       "count    1118.000000  1118.000000  1118.000000  1118.000000  1113.000000  \n",
       "mean     1758.214669   419.192308     4.296552     0.579777     0.248201  \n",
       "std      1073.418528   265.054626     2.179049     0.255524     0.108954  \n",
       "min         0.000000     0.000000     0.000000     0.000000     0.000000  \n",
       "25%      1084.500000   248.000000     2.985571     0.447092     0.194534  \n",
       "50%      1732.500000   405.500000     4.143594     0.562496     0.237029  \n",
       "75%      2408.750000   579.000000     5.488219     0.684795     0.283278  \n",
       "max      6035.000000  1589.000000    13.581197     3.000000     1.000000  "
      ]
     },
     "execution_count": 35,
     "metadata": {},
     "output_type": "execute_result"
    }
   ],
   "source": [
    "df_region = df.groupby(['employee_id','employee_super_region']).sum()\n",
    "df_region['win_per_day'] = df_region.wins_count/df_region.active_days\n",
    "df_region['win_per_int'] = df_region.wins_count/df_region.interactions_count\n",
    "df_region['win_per_pit'] = df_region.wins_count/df_region.pitches_count\n",
    "df_region.describe()"
   ]
  },
  {
   "cell_type": "markdown",
   "metadata": {},
   "source": []
  },
  {
   "cell_type": "raw",
   "metadata": {},
   "source": []
  },
  {
   "cell_type": "markdown",
   "metadata": {},
   "source": [
    "# clear that Europe is a little lower than the americas. wins/active day is around 4 compared to 5 for the US.\n",
    "# would be interested why there are quite a few sales without region. maybe it was multi-region"
   ]
  },
  {
   "cell_type": "code",
   "execution_count": 67,
   "metadata": {},
   "outputs": [
    {
     "data": {
      "text/plain": [
       "array([[<AxesSubplot:title={'center':'AMER'}>,\n",
       "        <AxesSubplot:title={'center':'APAC'}>],\n",
       "       [<AxesSubplot:title={'center':'EMEA'}>,\n",
       "        <AxesSubplot:title={'center':'LATAM'}>],\n",
       "       [<AxesSubplot:title={'center':'\\\\N'}>, <AxesSubplot:>]],\n",
       "      dtype=object)"
      ]
     },
     "execution_count": 67,
     "metadata": {},
     "output_type": "execute_result"
    },
    {
     "data": {
      "image/png": "[encoded data removed]",
      "text/plain": [
       "<Figure size 432x288 with 1 Axes>"
      ]
     },
     "metadata": {
      "needs_background": "light"
     },
     "output_type": "display_data"
    },
    {
     "data": {
      "image/png": "[encoded data removed]",
      "text/plain": [
       "<Figure size 432x288 with 1 Axes>"
      ]
     },
     "metadata": {
      "needs_background": "light"
     },
     "output_type": "display_data"
    },
    {
     "data": {
      "image/png": "[encoded data removed]",
      "text/plain": [
       "<Figure size 432x288 with 6 Axes>"
      ]
     },
     "metadata": {
      "needs_background": "light"
     },
     "output_type": "display_data"
    },
    {
     "data": {
      "image/png": "[encoded data removed]",
      "text/plain": [
       "<Figure size 432x288 with 6 Axes>"
      ]
     },
     "metadata": {
      "needs_background": "light"
     },
     "output_type": "display_data"
    },
    {
     "data": {
      "image/png": "[encoded data removed]",
      "text/plain": [
       "<Figure size 432x288 with 6 Axes>"
      ]
     },
     "metadata": {
      "needs_background": "light"
     },
     "output_type": "display_data"
    },
    {
     "data": {
      "image/png": "[encoded data removed]",
      "text/plain": [
       "<Figure size 432x288 with 6 Axes>"
      ]
     },
     "metadata": {
      "needs_background": "light"
     },
     "output_type": "display_data"
    }
   ],
   "source": [
    "df_region.hist('win_per_day')#,ax=df.loc[:,\"employee_super_region\"])\n",
    "df_region.hist('active_days')\n",
    "df_region.hist(column='win_per_day', by = 'employee_super_region')\n",
    "df_region.hist(column='win_per_int', by = 'employee_super_region')\n",
    "df_region.hist(column='win_per_pit', by = 'employee_super_region')\n",
    "df_region.hist(column='wins_count', by = 'employee_super_region')\n",
    "\n"
   ]
  },
  {
   "cell_type": "code",
   "execution_count": null,
   "metadata": {},
   "outputs": [],
   "source": []
  }
 ],
 "metadata": {
  "kernelspec": {
   "display_name": "Python 3",
   "language": "python",
   "name": "python3"
  },
  "language_info": {
   "codemirror_mode": {
    "name": "ipython",
    "version": 3
   },
   "file_extension": ".py",
   "mimetype": "text/x-python",
   "name": "python",
   "nbconvert_exporter": "python",
   "pygments_lexer": "ipython3",
   "version": "3.7.9"
  }
 },
 "nbformat": 4,
 "nbformat_minor": 4
}
