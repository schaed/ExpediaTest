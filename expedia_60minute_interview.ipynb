{
 "cells": [
  {
   "cell_type": "markdown",
   "metadata": {},
   "source": [
    "# loading the sales data into data frames to make summary tables and a few plots per region. I took around 30minutes to do this plus a little time to add notes and put onto github"
   ]
  },
  {
   "cell_type": "code",
   "execution_count": 3,
   "metadata": {},
   "outputs": [],
   "source": [
    "import pandas as pd;\n",
    "import numpy as np;\n",
    "df = pd.read_csv('expedia.csv')"
   ]
  },
  {
   "cell_type": "code",
   "execution_count": 33,
   "metadata": {},
   "outputs": [
    {
     "name": "stdout",
     "output_type": "stream",
     "text": [
      "Index(['employee_id', 'employee_super_region', 'year_nbr', 'month_nbr',\n",
      "       'active_days', 'interactions_count', 'pitches_count', 'wins_count'],\n",
      "      dtype='object')\n"
     ]
    },
    {
     "data": {
      "text/html": [
       "<div>\n",
       "<style scoped>\n",
       "    .dataframe tbody tr th:only-of-type {\n",
       "        vertical-align: middle;\n",
       "    }\n",
       "\n",
       "    .dataframe tbody tr th {\n",
       "        vertical-align: top;\n",
       "    }\n",
       "\n",
       "    .dataframe thead th {\n",
       "        text-align: right;\n",
       "    }\n",
       "</style>\n",
       "<table border=\"1\" class=\"dataframe\">\n",
       "  <thead>\n",
       "    <tr style=\"text-align: right;\">\n",
       "      <th></th>\n",
       "      <th>employee_id</th>\n",
       "      <th>employee_super_region</th>\n",
       "      <th>year_nbr</th>\n",
       "      <th>month_nbr</th>\n",
       "      <th>active_days</th>\n",
       "      <th>interactions_count</th>\n",
       "      <th>pitches_count</th>\n",
       "      <th>wins_count</th>\n",
       "    </tr>\n",
       "  </thead>\n",
       "  <tbody>\n",
       "    <tr>\n",
       "      <th>7585</th>\n",
       "      <td>310139</td>\n",
       "      <td>EMEA</td>\n",
       "      <td>2020</td>\n",
       "      <td>8</td>\n",
       "      <td>15</td>\n",
       "      <td>81</td>\n",
       "      <td>219.0</td>\n",
       "      <td>32.0</td>\n",
       "    </tr>\n",
       "    <tr>\n",
       "      <th>7586</th>\n",
       "      <td>310139</td>\n",
       "      <td>EMEA</td>\n",
       "      <td>2020</td>\n",
       "      <td>9</td>\n",
       "      <td>22</td>\n",
       "      <td>125</td>\n",
       "      <td>272.0</td>\n",
       "      <td>40.0</td>\n",
       "    </tr>\n",
       "    <tr>\n",
       "      <th>7587</th>\n",
       "      <td>310139</td>\n",
       "      <td>EMEA</td>\n",
       "      <td>2020</td>\n",
       "      <td>10</td>\n",
       "      <td>14</td>\n",
       "      <td>79</td>\n",
       "      <td>217.0</td>\n",
       "      <td>59.0</td>\n",
       "    </tr>\n",
       "    <tr>\n",
       "      <th>7588</th>\n",
       "      <td>310139</td>\n",
       "      <td>EMEA</td>\n",
       "      <td>2020</td>\n",
       "      <td>11</td>\n",
       "      <td>19</td>\n",
       "      <td>104</td>\n",
       "      <td>344.0</td>\n",
       "      <td>97.0</td>\n",
       "    </tr>\n",
       "    <tr>\n",
       "      <th>7589</th>\n",
       "      <td>310139</td>\n",
       "      <td>EMEA</td>\n",
       "      <td>2020</td>\n",
       "      <td>12</td>\n",
       "      <td>7</td>\n",
       "      <td>42</td>\n",
       "      <td>156.0</td>\n",
       "      <td>33.0</td>\n",
       "    </tr>\n",
       "  </tbody>\n",
       "</table>\n",
       "</div>"
      ],
      "text/plain": [
       "      employee_id employee_super_region  year_nbr  month_nbr  active_days  \\\n",
       "7585       310139                  EMEA      2020          8           15   \n",
       "7586       310139                  EMEA      2020          9           22   \n",
       "7587       310139                  EMEA      2020         10           14   \n",
       "7588       310139                  EMEA      2020         11           19   \n",
       "7589       310139                  EMEA      2020         12            7   \n",
       "\n",
       "      interactions_count  pitches_count  wins_count  \n",
       "7585                  81          219.0        32.0  \n",
       "7586                 125          272.0        40.0  \n",
       "7587                  79          217.0        59.0  \n",
       "7588                 104          344.0        97.0  \n",
       "7589                  42          156.0        33.0  "
      ]
     },
     "execution_count": 33,
     "metadata": {},
     "output_type": "execute_result"
    }
   ],
   "source": [
    "df.describe()\n",
    "df.pitches_count = pd.to_numeric(df.pitches_count,errors='coerce')\n",
    "df.wins_count = pd.to_numeric(df.wins_count,errors='coerce')\n",
    "df = df[['employee_id', 'employee_super_region', 'year_nbr', 'month_nbr',\n",
    "       'active_days', 'interactions_count', 'pitches_count', 'wins_count']]\n",
    "print(df.columns)\n",
    "df.tail()"
   ]
  },
  {
   "cell_type": "markdown",
   "metadata": {},
   "source": [
    "# evaluate by employee"
   ]
  },
  {
   "cell_type": "code",
   "execution_count": 6,
   "metadata": {},
   "outputs": [
    {
     "data": {
      "text/html": [
       "<div>\n",
       "<style scoped>\n",
       "    .dataframe tbody tr th:only-of-type {\n",
       "        vertical-align: middle;\n",
       "    }\n",
       "\n",
       "    .dataframe tbody tr th {\n",
       "        vertical-align: top;\n",
       "    }\n",
       "\n",
       "    .dataframe thead th {\n",
       "        text-align: right;\n",
       "    }\n",
       "</style>\n",
       "<table border=\"1\" class=\"dataframe\">\n",
       "  <thead>\n",
       "    <tr style=\"text-align: right;\">\n",
       "      <th></th>\n",
       "      <th>year_nbr</th>\n",
       "      <th>month_nbr</th>\n",
       "      <th>active_days</th>\n",
       "      <th>interactions_count</th>\n",
       "      <th>pitches_count</th>\n",
       "      <th>wins_count</th>\n",
       "      <th>win_per_day</th>\n",
       "      <th>win_per_int</th>\n",
       "      <th>win_per_pit</th>\n",
       "      <th>pit_per_day</th>\n",
       "      <th>pit_per_int</th>\n",
       "    </tr>\n",
       "  </thead>\n",
       "  <tbody>\n",
       "    <tr>\n",
       "      <th>count</th>\n",
       "      <td>1118.000000</td>\n",
       "      <td>1118.000000</td>\n",
       "      <td>1118.000000</td>\n",
       "      <td>1118.000000</td>\n",
       "      <td>1118.000000</td>\n",
       "      <td>1118.000000</td>\n",
       "      <td>1118.000000</td>\n",
       "      <td>1118.000000</td>\n",
       "      <td>1113.000000</td>\n",
       "      <td>1118.000000</td>\n",
       "      <td>1118.000000</td>\n",
       "    </tr>\n",
       "    <tr>\n",
       "      <th>mean</th>\n",
       "      <td>13713.652057</td>\n",
       "      <td>57.879249</td>\n",
       "      <td>88.616279</td>\n",
       "      <td>712.883721</td>\n",
       "      <td>1758.214669</td>\n",
       "      <td>419.192308</td>\n",
       "      <td>4.296552</td>\n",
       "      <td>0.579777</td>\n",
       "      <td>0.248201</td>\n",
       "      <td>17.828248</td>\n",
       "      <td>2.376413</td>\n",
       "    </tr>\n",
       "    <tr>\n",
       "      <th>std</th>\n",
       "      <td>4161.271010</td>\n",
       "      <td>17.256885</td>\n",
       "      <td>36.040716</td>\n",
       "      <td>375.561570</td>\n",
       "      <td>1073.418528</td>\n",
       "      <td>265.054626</td>\n",
       "      <td>2.179049</td>\n",
       "      <td>0.255524</td>\n",
       "      <td>0.108954</td>\n",
       "      <td>8.398987</td>\n",
       "      <td>0.705637</td>\n",
       "    </tr>\n",
       "    <tr>\n",
       "      <th>min</th>\n",
       "      <td>2020.000000</td>\n",
       "      <td>5.000000</td>\n",
       "      <td>1.000000</td>\n",
       "      <td>1.000000</td>\n",
       "      <td>0.000000</td>\n",
       "      <td>0.000000</td>\n",
       "      <td>0.000000</td>\n",
       "      <td>0.000000</td>\n",
       "      <td>0.000000</td>\n",
       "      <td>0.000000</td>\n",
       "      <td>0.000000</td>\n",
       "    </tr>\n",
       "    <tr>\n",
       "      <th>25%</th>\n",
       "      <td>12120.000000</td>\n",
       "      <td>57.000000</td>\n",
       "      <td>73.250000</td>\n",
       "      <td>511.250000</td>\n",
       "      <td>1084.500000</td>\n",
       "      <td>248.000000</td>\n",
       "      <td>2.985571</td>\n",
       "      <td>0.447092</td>\n",
       "      <td>0.194534</td>\n",
       "      <td>13.494774</td>\n",
       "      <td>2.000000</td>\n",
       "    </tr>\n",
       "    <tr>\n",
       "      <th>50%</th>\n",
       "      <td>16160.000000</td>\n",
       "      <td>68.000000</td>\n",
       "      <td>103.000000</td>\n",
       "      <td>743.000000</td>\n",
       "      <td>1732.500000</td>\n",
       "      <td>405.500000</td>\n",
       "      <td>4.143594</td>\n",
       "      <td>0.562496</td>\n",
       "      <td>0.237029</td>\n",
       "      <td>17.428015</td>\n",
       "      <td>2.362033</td>\n",
       "    </tr>\n",
       "    <tr>\n",
       "      <th>75%</th>\n",
       "      <td>16160.000000</td>\n",
       "      <td>68.000000</td>\n",
       "      <td>115.000000</td>\n",
       "      <td>964.000000</td>\n",
       "      <td>2408.750000</td>\n",
       "      <td>579.000000</td>\n",
       "      <td>5.488219</td>\n",
       "      <td>0.684795</td>\n",
       "      <td>0.283278</td>\n",
       "      <td>22.359497</td>\n",
       "      <td>2.735488</td>\n",
       "    </tr>\n",
       "    <tr>\n",
       "      <th>max</th>\n",
       "      <td>20200.000000</td>\n",
       "      <td>78.000000</td>\n",
       "      <td>138.000000</td>\n",
       "      <td>2175.000000</td>\n",
       "      <td>6035.000000</td>\n",
       "      <td>1589.000000</td>\n",
       "      <td>13.581197</td>\n",
       "      <td>3.000000</td>\n",
       "      <td>1.000000</td>\n",
       "      <td>63.481481</td>\n",
       "      <td>8.000000</td>\n",
       "    </tr>\n",
       "  </tbody>\n",
       "</table>\n",
       "</div>"
      ],
      "text/plain": [
       "           year_nbr    month_nbr  active_days  interactions_count  \\\n",
       "count   1118.000000  1118.000000  1118.000000         1118.000000   \n",
       "mean   13713.652057    57.879249    88.616279          712.883721   \n",
       "std     4161.271010    17.256885    36.040716          375.561570   \n",
       "min     2020.000000     5.000000     1.000000            1.000000   \n",
       "25%    12120.000000    57.000000    73.250000          511.250000   \n",
       "50%    16160.000000    68.000000   103.000000          743.000000   \n",
       "75%    16160.000000    68.000000   115.000000          964.000000   \n",
       "max    20200.000000    78.000000   138.000000         2175.000000   \n",
       "\n",
       "       pitches_count   wins_count  win_per_day  win_per_int  win_per_pit  \\\n",
       "count    1118.000000  1118.000000  1118.000000  1118.000000  1113.000000   \n",
       "mean     1758.214669   419.192308     4.296552     0.579777     0.248201   \n",
       "std      1073.418528   265.054626     2.179049     0.255524     0.108954   \n",
       "min         0.000000     0.000000     0.000000     0.000000     0.000000   \n",
       "25%      1084.500000   248.000000     2.985571     0.447092     0.194534   \n",
       "50%      1732.500000   405.500000     4.143594     0.562496     0.237029   \n",
       "75%      2408.750000   579.000000     5.488219     0.684795     0.283278   \n",
       "max      6035.000000  1589.000000    13.581197     3.000000     1.000000   \n",
       "\n",
       "       pit_per_day  pit_per_int  \n",
       "count  1118.000000  1118.000000  \n",
       "mean     17.828248     2.376413  \n",
       "std       8.398987     0.705637  \n",
       "min       0.000000     0.000000  \n",
       "25%      13.494774     2.000000  \n",
       "50%      17.428015     2.362033  \n",
       "75%      22.359497     2.735488  \n",
       "max      63.481481     8.000000  "
      ]
     },
     "execution_count": 6,
     "metadata": {},
     "output_type": "execute_result"
    }
   ],
   "source": [
    "df_employee = df.groupby('employee_id').sum()\n",
    "df_employee['win_per_day'] = df_employee.wins_count/df_employee.active_days\n",
    "df_employee['win_per_int'] = df_employee.wins_count/df_employee.interactions_count\n",
    "df_employee['win_per_pit'] = df_employee.wins_count/df_employee.pitches_count\n",
    "df_employee['pit_per_day'] = df_employee.pitches_count/df_employee.active_days\n",
    "df_employee['pit_per_int'] = df_employee.pitches_count/df_employee.interactions_count\n",
    "\n",
    "df_employee.describe()\n"
   ]
  },
  {
   "cell_type": "markdown",
   "metadata": {},
   "source": [
    "# General recommendations\n",
    "# Top 75% of employees have 5.5 or more wins per day\n",
    "# Top 75% have a win per interaction of 68%\n",
    "# Top 75% have wins per pitch of 28%\n",
    "# 2.7 pitches per interaction, so more pitches\n",
    "# 22.3 pitches/day"
   ]
  },
  {
   "cell_type": "markdown",
   "metadata": {},
   "source": [
    "# Started looking at some correlations to see if these are really good metrics. By this I mean does more pitches correlate with more wins. with a correlation of "
   ]
  },
  {
   "cell_type": "code",
   "execution_count": 56,
   "metadata": {},
   "outputs": [
    {
     "name": "stdout",
     "output_type": "stream",
     "text": [
      "                    year_nbr  month_nbr  active_days  interactions_count  \\\n",
      "year_nbr            1.000000   0.982687     0.910034            0.767464   \n",
      "month_nbr           0.982687   1.000000     0.915179            0.773436   \n",
      "active_days         0.910034   0.915179     1.000000            0.869463   \n",
      "interactions_count  0.767464   0.773436     0.869463            1.000000   \n",
      "pitches_count       0.684313   0.691820     0.783383            0.902368   \n",
      "wins_count          0.644296   0.652844     0.736159            0.848660   \n",
      "win_per_day         0.442559   0.459654     0.490005            0.654028   \n",
      "win_per_int         0.016927   0.036297     0.043049            0.061312   \n",
      "win_per_pit        -0.144291  -0.137722    -0.144344           -0.109880   \n",
      "pit_per_day         0.537574   0.551166     0.589686            0.762975   \n",
      "pit_per_int         0.205635   0.225571     0.243524            0.242126   \n",
      "\n",
      "                    pitches_count  wins_count  win_per_day  win_per_int  \\\n",
      "year_nbr                 0.684313    0.644296     0.442559     0.016927   \n",
      "month_nbr                0.691820    0.652844     0.459654     0.036297   \n",
      "active_days              0.783383    0.736159     0.490005     0.043049   \n",
      "interactions_count       0.902368    0.848660     0.654028     0.061312   \n",
      "pitches_count            1.000000    0.879546     0.718039     0.191896   \n",
      "wins_count               0.879546    1.000000     0.885332     0.383131   \n",
      "win_per_day              0.718039    0.885332     1.000000     0.566046   \n",
      "win_per_int              0.191896    0.383131     0.566046     1.000000   \n",
      "win_per_pit             -0.148413    0.100751     0.276588     0.691740   \n",
      "pit_per_day              0.906135    0.790760     0.806123     0.268395   \n",
      "pit_per_int              0.523424    0.405563     0.456653     0.518482   \n",
      "\n",
      "                    win_per_pit  pit_per_day  pit_per_int  \n",
      "year_nbr              -0.144291     0.537574     0.205635  \n",
      "month_nbr             -0.137722     0.551166     0.225571  \n",
      "active_days           -0.144344     0.589686     0.243524  \n",
      "interactions_count    -0.109880     0.762975     0.242126  \n",
      "pitches_count         -0.148413     0.906135     0.523424  \n",
      "wins_count             0.100751     0.790760     0.405563  \n",
      "win_per_day            0.276588     0.806123     0.456653  \n",
      "win_per_int            0.691740     0.268395     0.518482  \n",
      "win_per_pit            1.000000    -0.142242    -0.134618  \n",
      "pit_per_day           -0.142242     1.000000     0.635090  \n",
      "pit_per_int           -0.134618     0.635090     1.000000  \n"
     ]
    }
   ],
   "source": [
    "print(df_employee.corr())"
   ]
  },
  {
   "cell_type": "code",
   "execution_count": 48,
   "metadata": {},
   "outputs": [
    {
     "data": {
      "text/plain": [
       "array([[<AxesSubplot:title={'center':'win_per_pit'}>]], dtype=object)"
      ]
     },
     "execution_count": 48,
     "metadata": {},
     "output_type": "execute_result"
    },
    {
     "data": {
      "image/png": "[encoded data removed]",
      "text/plain": [
       "<Figure size 432x288 with 1 Axes>"
      ]
     },
     "metadata": {
      "needs_background": "light"
     },
     "output_type": "display_data"
    },
    {
     "data": {
      "image/png": "[encoded data removed]",
      "text/plain": [
       "<Figure size 432x288 with 1 Axes>"
      ]
     },
     "metadata": {
      "needs_background": "light"
     },
     "output_type": "display_data"
    },
    {
     "data": {
      "image/png": "[encoded data removed]",
      "text/plain": [
       "<Figure size 432x288 with 1 Axes>"
      ]
     },
     "metadata": {
      "needs_background": "light"
     },
     "output_type": "display_data"
    }
   ],
   "source": [
    "df_employee.hist('win_per_day')\n",
    "df_employee.hist('win_per_int')\n",
    "df_employee.hist('win_per_pit')\n"
   ]
  },
  {
   "cell_type": "code",
   "execution_count": 35,
   "metadata": {},
   "outputs": [
    {
     "data": {
      "text/html": [
       "<div>\n",
       "<style scoped>\n",
       "    .dataframe tbody tr th:only-of-type {\n",
       "        vertical-align: middle;\n",
       "    }\n",
       "\n",
       "    .dataframe tbody tr th {\n",
       "        vertical-align: top;\n",
       "    }\n",
       "\n",
       "    .dataframe thead th {\n",
       "        text-align: right;\n",
       "    }\n",
       "</style>\n",
       "<table border=\"1\" class=\"dataframe\">\n",
       "  <thead>\n",
       "    <tr style=\"text-align: right;\">\n",
       "      <th></th>\n",
       "      <th>year_nbr</th>\n",
       "      <th>month_nbr</th>\n",
       "      <th>active_days</th>\n",
       "      <th>interactions_count</th>\n",
       "      <th>pitches_count</th>\n",
       "      <th>wins_count</th>\n",
       "      <th>win_per_day</th>\n",
       "      <th>win_per_int</th>\n",
       "      <th>win_per_pit</th>\n",
       "    </tr>\n",
       "  </thead>\n",
       "  <tbody>\n",
       "    <tr>\n",
       "      <th>count</th>\n",
       "      <td>1118.000000</td>\n",
       "      <td>1118.000000</td>\n",
       "      <td>1118.000000</td>\n",
       "      <td>1118.000000</td>\n",
       "      <td>1118.000000</td>\n",
       "      <td>1118.000000</td>\n",
       "      <td>1118.000000</td>\n",
       "      <td>1118.000000</td>\n",
       "      <td>1113.000000</td>\n",
       "    </tr>\n",
       "    <tr>\n",
       "      <th>mean</th>\n",
       "      <td>13713.652057</td>\n",
       "      <td>57.879249</td>\n",
       "      <td>88.616279</td>\n",
       "      <td>712.883721</td>\n",
       "      <td>1758.214669</td>\n",
       "      <td>419.192308</td>\n",
       "      <td>4.296552</td>\n",
       "      <td>0.579777</td>\n",
       "      <td>0.248201</td>\n",
       "    </tr>\n",
       "    <tr>\n",
       "      <th>std</th>\n",
       "      <td>4161.271010</td>\n",
       "      <td>17.256885</td>\n",
       "      <td>36.040716</td>\n",
       "      <td>375.561570</td>\n",
       "      <td>1073.418528</td>\n",
       "      <td>265.054626</td>\n",
       "      <td>2.179049</td>\n",
       "      <td>0.255524</td>\n",
       "      <td>0.108954</td>\n",
       "    </tr>\n",
       "    <tr>\n",
       "      <th>min</th>\n",
       "      <td>2020.000000</td>\n",
       "      <td>5.000000</td>\n",
       "      <td>1.000000</td>\n",
       "      <td>1.000000</td>\n",
       "      <td>0.000000</td>\n",
       "      <td>0.000000</td>\n",
       "      <td>0.000000</td>\n",
       "      <td>0.000000</td>\n",
       "      <td>0.000000</td>\n",
       "    </tr>\n",
       "    <tr>\n",
       "      <th>25%</th>\n",
       "      <td>12120.000000</td>\n",
       "      <td>57.000000</td>\n",
       "      <td>73.250000</td>\n",
       "      <td>511.250000</td>\n",
       "      <td>1084.500000</td>\n",
       "      <td>248.000000</td>\n",
       "      <td>2.985571</td>\n",
       "      <td>0.447092</td>\n",
       "      <td>0.194534</td>\n",
       "    </tr>\n",
       "    <tr>\n",
       "      <th>50%</th>\n",
       "      <td>16160.000000</td>\n",
       "      <td>68.000000</td>\n",
       "      <td>103.000000</td>\n",
       "      <td>743.000000</td>\n",
       "      <td>1732.500000</td>\n",
       "      <td>405.500000</td>\n",
       "      <td>4.143594</td>\n",
       "      <td>0.562496</td>\n",
       "      <td>0.237029</td>\n",
       "    </tr>\n",
       "    <tr>\n",
       "      <th>75%</th>\n",
       "      <td>16160.000000</td>\n",
       "      <td>68.000000</td>\n",
       "      <td>115.000000</td>\n",
       "      <td>964.000000</td>\n",
       "      <td>2408.750000</td>\n",
       "      <td>579.000000</td>\n",
       "      <td>5.488219</td>\n",
       "      <td>0.684795</td>\n",
       "      <td>0.283278</td>\n",
       "    </tr>\n",
       "    <tr>\n",
       "      <th>max</th>\n",
       "      <td>20200.000000</td>\n",
       "      <td>78.000000</td>\n",
       "      <td>138.000000</td>\n",
       "      <td>2175.000000</td>\n",
       "      <td>6035.000000</td>\n",
       "      <td>1589.000000</td>\n",
       "      <td>13.581197</td>\n",
       "      <td>3.000000</td>\n",
       "      <td>1.000000</td>\n",
       "    </tr>\n",
       "  </tbody>\n",
       "</table>\n",
       "</div>"
      ],
      "text/plain": [
       "           year_nbr    month_nbr  active_days  interactions_count  \\\n",
       "count   1118.000000  1118.000000  1118.000000         1118.000000   \n",
       "mean   13713.652057    57.879249    88.616279          712.883721   \n",
       "std     4161.271010    17.256885    36.040716          375.561570   \n",
       "min     2020.000000     5.000000     1.000000            1.000000   \n",
       "25%    12120.000000    57.000000    73.250000          511.250000   \n",
       "50%    16160.000000    68.000000   103.000000          743.000000   \n",
       "75%    16160.000000    68.000000   115.000000          964.000000   \n",
       "max    20200.000000    78.000000   138.000000         2175.000000   \n",
       "\n",
       "       pitches_count   wins_count  win_per_day  win_per_int  win_per_pit  \n",
       "count    1118.000000  1118.000000  1118.000000  1118.000000  1113.000000  \n",
       "mean     1758.214669   419.192308     4.296552     0.579777     0.248201  \n",
       "std      1073.418528   265.054626     2.179049     0.255524     0.108954  \n",
       "min         0.000000     0.000000     0.000000     0.000000     0.000000  \n",
       "25%      1084.500000   248.000000     2.985571     0.447092     0.194534  \n",
       "50%      1732.500000   405.500000     4.143594     0.562496     0.237029  \n",
       "75%      2408.750000   579.000000     5.488219     0.684795     0.283278  \n",
       "max      6035.000000  1589.000000    13.581197     3.000000     1.000000  "
      ]
     },
     "execution_count": 35,
     "metadata": {},
     "output_type": "execute_result"
    }
   ],
   "source": [
    "df_region = df.groupby(['employee_id','employee_super_region']).sum()\n",
    "df_region['win_per_day'] = df_region.wins_count/df_region.active_days\n",
    "df_region['win_per_int'] = df_region.wins_count/df_region.interactions_count\n",
    "df_region['win_per_pit'] = df_region.wins_count/df_region.pitches_count\n",
    "df_region.describe()"
   ]
  },
  {
   "cell_type": "markdown",
   "metadata": {},
   "source": []
  },
  {
   "cell_type": "raw",
   "metadata": {},
   "source": []
  },
  {
   "cell_type": "markdown",
   "metadata": {},
   "source": [
    "# clear that Europe is a little lower than the americas. wins/active day is around 4 compared to 5 for the US.\n",
    "# would be interested why there are quite a few sales without region. maybe it was multi-region"
   ]
  },
  {
   "cell_type": "code",
   "execution_count": 67,
   "metadata": {},
   "outputs": [
    {
     "data": {
      "text/plain": [
       "array([[<AxesSubplot:title={'center':'AMER'}>,\n",
       "        <AxesSubplot:title={'center':'APAC'}>],\n",
       "       [<AxesSubplot:title={'center':'EMEA'}>,\n",
       "        <AxesSubplot:title={'center':'LATAM'}>],\n",
       "       [<AxesSubplot:title={'center':'\\\\N'}>, <AxesSubplot:>]],\n",
       "      dtype=object)"
      ]
     },
     "execution_count": 67,
     "metadata": {},
     "output_type": "execute_result"
    },
    {
     "data": {
      "image/png": "[encoded data removed]",
      "text/plain": [
       "<Figure size 432x288 with 1 Axes>"
      ]
     },
     "metadata": {
      "needs_background": "light"
     },
     "output_type": "display_data"
    },
    {
     "data": {
      "image/png": "[encoded data removed]",
      "text/plain": [
       "<Figure size 432x288 with 1 Axes>"
      ]
     },
     "metadata": {
      "needs_background": "light"
     },
     "output_type": "display_data"
    },
    {
     "data": {
      "image/png": "[encoded data removed]",
      "text/plain": [
       "<Figure size 432x288 with 6 Axes>"
      ]
     },
     "metadata": {
      "needs_background": "light"
     },
     "output_type": "display_data"
    },
    {
     "data": {
      "image/png": "[encoded data removed]",
      "text/plain": [
       "<Figure size 432x288 with 6 Axes>"
      ]
     },
     "metadata": {
      "needs_background": "light"
     },
     "output_type": "display_data"
    },
    {
     "data": {
      "image/png": "[encoded data removed]",
      "text/plain": [
       "<Figure size 432x288 with 6 Axes>"
      ]
     },
     "metadata": {
      "needs_background": "light"
     },
     "output_type": "display_data"
    },
    {
     "data": {
      "image/png": "[encoded data removed]",
      "text/plain": [
       "<Figure size 432x288 with 6 Axes>"
      ]
     },
     "metadata": {
      "needs_background": "light"
     },
     "output_type": "display_data"
    }
   ],
   "source": [
    "df_region.hist('win_per_day')#,ax=df.loc[:,\"employee_super_region\"])\n",
    "df_region.hist('active_days')\n",
    "df_region.hist(column='win_per_day', by = 'employee_super_region')\n",
    "df_region.hist(column='win_per_int', by = 'employee_super_region')\n",
    "df_region.hist(column='win_per_pit', by = 'employee_super_region')\n",
    "df_region.hist(column='wins_count', by = 'employee_super_region')\n",
    "\n"
   ]
  },
  {
   "cell_type": "markdown",
   "metadata": {},
   "source": [
    "# Test monthly dependence"
   ]
  },
  {
   "cell_type": "code",
   "execution_count": 34,
   "metadata": {},
   "outputs": [
    {
     "data": {
      "text/html": [
       "<div>\n",
       "<style scoped>\n",
       "    .dataframe tbody tr th:only-of-type {\n",
       "        vertical-align: middle;\n",
       "    }\n",
       "\n",
       "    .dataframe tbody tr th {\n",
       "        vertical-align: top;\n",
       "    }\n",
       "\n",
       "    .dataframe thead th {\n",
       "        text-align: right;\n",
       "    }\n",
       "</style>\n",
       "<table border=\"1\" class=\"dataframe\">\n",
       "  <thead>\n",
       "    <tr style=\"text-align: right;\">\n",
       "      <th></th>\n",
       "      <th>year_nbr</th>\n",
       "      <th>active_days</th>\n",
       "      <th>interactions_count</th>\n",
       "      <th>pitches_count</th>\n",
       "      <th>wins_count</th>\n",
       "      <th>win_per_day</th>\n",
       "      <th>win_per_int</th>\n",
       "      <th>win_per_pit</th>\n",
       "      <th>pit_per_day</th>\n",
       "      <th>pit_per_int</th>\n",
       "    </tr>\n",
       "  </thead>\n",
       "  <tbody>\n",
       "    <tr>\n",
       "      <th>count</th>\n",
       "      <td>7588.000000</td>\n",
       "      <td>7588.000000</td>\n",
       "      <td>7588.000000</td>\n",
       "      <td>7588.000000</td>\n",
       "      <td>7588.000000</td>\n",
       "      <td>7588.000000</td>\n",
       "      <td>7588.000000</td>\n",
       "      <td>6810.000000</td>\n",
       "      <td>7588.000000</td>\n",
       "      <td>7588.000000</td>\n",
       "    </tr>\n",
       "    <tr>\n",
       "      <th>mean</th>\n",
       "      <td>2020.540722</td>\n",
       "      <td>13.056537</td>\n",
       "      <td>105.034792</td>\n",
       "      <td>259.051661</td>\n",
       "      <td>61.762915</td>\n",
       "      <td>4.186362</td>\n",
       "      <td>0.530481</td>\n",
       "      <td>0.246748</td>\n",
       "      <td>17.524929</td>\n",
       "      <td>2.216060</td>\n",
       "    </tr>\n",
       "    <tr>\n",
       "      <th>std</th>\n",
       "      <td>32.808707</td>\n",
       "      <td>5.422310</td>\n",
       "      <td>63.080984</td>\n",
       "      <td>183.072527</td>\n",
       "      <td>46.545601</td>\n",
       "      <td>2.839055</td>\n",
       "      <td>0.320962</td>\n",
       "      <td>0.113852</td>\n",
       "      <td>10.678599</td>\n",
       "      <td>1.079330</td>\n",
       "    </tr>\n",
       "    <tr>\n",
       "      <th>min</th>\n",
       "      <td>2020.000000</td>\n",
       "      <td>1.000000</td>\n",
       "      <td>1.000000</td>\n",
       "      <td>0.000000</td>\n",
       "      <td>0.000000</td>\n",
       "      <td>0.000000</td>\n",
       "      <td>0.000000</td>\n",
       "      <td>0.000000</td>\n",
       "      <td>0.000000</td>\n",
       "      <td>0.000000</td>\n",
       "    </tr>\n",
       "    <tr>\n",
       "      <th>25%</th>\n",
       "      <td>2020.000000</td>\n",
       "      <td>10.000000</td>\n",
       "      <td>65.000000</td>\n",
       "      <td>140.750000</td>\n",
       "      <td>29.000000</td>\n",
       "      <td>2.444444</td>\n",
       "      <td>0.353577</td>\n",
       "      <td>0.179348</td>\n",
       "      <td>11.661765</td>\n",
       "      <td>1.689856</td>\n",
       "    </tr>\n",
       "    <tr>\n",
       "      <th>50%</th>\n",
       "      <td>2020.000000</td>\n",
       "      <td>14.000000</td>\n",
       "      <td>107.000000</td>\n",
       "      <td>248.000000</td>\n",
       "      <td>57.000000</td>\n",
       "      <td>4.000000</td>\n",
       "      <td>0.526517</td>\n",
       "      <td>0.233785</td>\n",
       "      <td>17.333333</td>\n",
       "      <td>2.309691</td>\n",
       "    </tr>\n",
       "    <tr>\n",
       "      <th>75%</th>\n",
       "      <td>2020.000000</td>\n",
       "      <td>17.000000</td>\n",
       "      <td>145.000000</td>\n",
       "      <td>361.000000</td>\n",
       "      <td>88.000000</td>\n",
       "      <td>5.705882</td>\n",
       "      <td>0.712894</td>\n",
       "      <td>0.298913</td>\n",
       "      <td>23.412990</td>\n",
       "      <td>2.888267</td>\n",
       "    </tr>\n",
       "    <tr>\n",
       "      <th>max</th>\n",
       "      <td>4043.000000</td>\n",
       "      <td>24.000000</td>\n",
       "      <td>631.000000</td>\n",
       "      <td>1922.000000</td>\n",
       "      <td>366.000000</td>\n",
       "      <td>35.750000</td>\n",
       "      <td>3.000000</td>\n",
       "      <td>1.000000</td>\n",
       "      <td>102.666667</td>\n",
       "      <td>8.000000</td>\n",
       "    </tr>\n",
       "  </tbody>\n",
       "</table>\n",
       "</div>"
      ],
      "text/plain": [
       "          year_nbr  active_days  interactions_count  pitches_count  \\\n",
       "count  7588.000000  7588.000000         7588.000000    7588.000000   \n",
       "mean   2020.540722    13.056537          105.034792     259.051661   \n",
       "std      32.808707     5.422310           63.080984     183.072527   \n",
       "min    2020.000000     1.000000            1.000000       0.000000   \n",
       "25%    2020.000000    10.000000           65.000000     140.750000   \n",
       "50%    2020.000000    14.000000          107.000000     248.000000   \n",
       "75%    2020.000000    17.000000          145.000000     361.000000   \n",
       "max    4043.000000    24.000000          631.000000    1922.000000   \n",
       "\n",
       "        wins_count  win_per_day  win_per_int  win_per_pit  pit_per_day  \\\n",
       "count  7588.000000  7588.000000  7588.000000  6810.000000  7588.000000   \n",
       "mean     61.762915     4.186362     0.530481     0.246748    17.524929   \n",
       "std      46.545601     2.839055     0.320962     0.113852    10.678599   \n",
       "min       0.000000     0.000000     0.000000     0.000000     0.000000   \n",
       "25%      29.000000     2.444444     0.353577     0.179348    11.661765   \n",
       "50%      57.000000     4.000000     0.526517     0.233785    17.333333   \n",
       "75%      88.000000     5.705882     0.712894     0.298913    23.412990   \n",
       "max     366.000000    35.750000     3.000000     1.000000   102.666667   \n",
       "\n",
       "       pit_per_int  \n",
       "count  7588.000000  \n",
       "mean      2.216060  \n",
       "std       1.079330  \n",
       "min       0.000000  \n",
       "25%       1.689856  \n",
       "50%       2.309691  \n",
       "75%       2.888267  \n",
       "max       8.000000  "
      ]
     },
     "execution_count": 34,
     "metadata": {},
     "output_type": "execute_result"
    }
   ],
   "source": [
    "df_month = df.groupby(['employee_id','month_nbr']).sum()\n",
    "df_month['win_per_day'] = df_month.wins_count/df_month.active_days\n",
    "df_month['win_per_int'] = df_month.wins_count/df_month.interactions_count\n",
    "df_month['win_per_pit'] = df_month.wins_count/df_month.pitches_count\n",
    "df_month['pit_per_day'] = df_month.pitches_count/df_month.active_days\n",
    "df_month['pit_per_int'] = df_month.pitches_count/df_month.interactions_count\n",
    "df_month.describe()"
   ]
  },
  {
   "cell_type": "code",
   "execution_count": 38,
   "metadata": {},
   "outputs": [
    {
     "data": {
      "text/html": [
       "<div>\n",
       "<style scoped>\n",
       "    .dataframe tbody tr th:only-of-type {\n",
       "        vertical-align: middle;\n",
       "    }\n",
       "\n",
       "    .dataframe tbody tr th {\n",
       "        vertical-align: top;\n",
       "    }\n",
       "\n",
       "    .dataframe thead th {\n",
       "        text-align: right;\n",
       "    }\n",
       "</style>\n",
       "<table border=\"1\" class=\"dataframe\">\n",
       "  <thead>\n",
       "    <tr style=\"text-align: right;\">\n",
       "      <th></th>\n",
       "      <th>year_nbr</th>\n",
       "      <th>active_days</th>\n",
       "      <th>interactions_count</th>\n",
       "      <th>pitches_count</th>\n",
       "      <th>wins_count</th>\n",
       "      <th>win_per_day</th>\n",
       "      <th>win_per_int</th>\n",
       "      <th>win_per_pit</th>\n",
       "      <th>pit_per_day</th>\n",
       "      <th>pit_per_int</th>\n",
       "    </tr>\n",
       "    <tr>\n",
       "      <th>month_nbr</th>\n",
       "      <th></th>\n",
       "      <th></th>\n",
       "      <th></th>\n",
       "      <th></th>\n",
       "      <th></th>\n",
       "      <th></th>\n",
       "      <th></th>\n",
       "      <th></th>\n",
       "      <th></th>\n",
       "      <th></th>\n",
       "    </tr>\n",
       "  </thead>\n",
       "  <tbody>\n",
       "    <tr>\n",
       "      <th>8</th>\n",
       "      <td>2020.000000</td>\n",
       "      <td>12.228866</td>\n",
       "      <td>101.458763</td>\n",
       "      <td>261.347423</td>\n",
       "      <td>66.249485</td>\n",
       "      <td>5.219184</td>\n",
       "      <td>0.636650</td>\n",
       "      <td>0.259320</td>\n",
       "      <td>20.495523</td>\n",
       "      <td>2.502622</td>\n",
       "    </tr>\n",
       "    <tr>\n",
       "      <th>9</th>\n",
       "      <td>2020.000000</td>\n",
       "      <td>16.686441</td>\n",
       "      <td>139.229873</td>\n",
       "      <td>342.826271</td>\n",
       "      <td>82.674788</td>\n",
       "      <td>4.784049</td>\n",
       "      <td>0.593367</td>\n",
       "      <td>0.246817</td>\n",
       "      <td>19.899267</td>\n",
       "      <td>2.473377</td>\n",
       "    </tr>\n",
       "    <tr>\n",
       "      <th>10</th>\n",
       "      <td>2022.031187</td>\n",
       "      <td>16.073441</td>\n",
       "      <td>121.416499</td>\n",
       "      <td>324.286720</td>\n",
       "      <td>73.851107</td>\n",
       "      <td>4.386503</td>\n",
       "      <td>0.610444</td>\n",
       "      <td>0.238101</td>\n",
       "      <td>19.206507</td>\n",
       "      <td>2.612193</td>\n",
       "    </tr>\n",
       "    <tr>\n",
       "      <th>11</th>\n",
       "      <td>2020.000000</td>\n",
       "      <td>15.017526</td>\n",
       "      <td>116.831959</td>\n",
       "      <td>304.335052</td>\n",
       "      <td>72.374227</td>\n",
       "      <td>4.673728</td>\n",
       "      <td>0.625972</td>\n",
       "      <td>0.245292</td>\n",
       "      <td>19.565891</td>\n",
       "      <td>2.596532</td>\n",
       "    </tr>\n",
       "    <tr>\n",
       "      <th>12</th>\n",
       "      <td>2020.000000</td>\n",
       "      <td>11.108650</td>\n",
       "      <td>83.892405</td>\n",
       "      <td>230.597046</td>\n",
       "      <td>48.967300</td>\n",
       "      <td>4.357494</td>\n",
       "      <td>0.584073</td>\n",
       "      <td>0.222281</td>\n",
       "      <td>20.357297</td>\n",
       "      <td>2.723466</td>\n",
       "    </tr>\n",
       "  </tbody>\n",
       "</table>\n",
       "</div>"
      ],
      "text/plain": [
       "              year_nbr  active_days  interactions_count  pitches_count  \\\n",
       "month_nbr                                                                \n",
       "8          2020.000000    12.228866          101.458763     261.347423   \n",
       "9          2020.000000    16.686441          139.229873     342.826271   \n",
       "10         2022.031187    16.073441          121.416499     324.286720   \n",
       "11         2020.000000    15.017526          116.831959     304.335052   \n",
       "12         2020.000000    11.108650           83.892405     230.597046   \n",
       "\n",
       "           wins_count  win_per_day  win_per_int  win_per_pit  pit_per_day  \\\n",
       "month_nbr                                                                   \n",
       "8           66.249485     5.219184     0.636650     0.259320    20.495523   \n",
       "9           82.674788     4.784049     0.593367     0.246817    19.899267   \n",
       "10          73.851107     4.386503     0.610444     0.238101    19.206507   \n",
       "11          72.374227     4.673728     0.625972     0.245292    19.565891   \n",
       "12          48.967300     4.357494     0.584073     0.222281    20.357297   \n",
       "\n",
       "           pit_per_int  \n",
       "month_nbr               \n",
       "8             2.502622  \n",
       "9             2.473377  \n",
       "10            2.612193  \n",
       "11            2.596532  \n",
       "12            2.723466  "
      ]
     },
     "execution_count": 38,
     "metadata": {},
     "output_type": "execute_result"
    },
    {
     "data": {
      "image/png": "[encoded data removed]",
      "text/plain": [
       "<Figure size 432x288 with 1 Axes>"
      ]
     },
     "metadata": {
      "needs_background": "light"
     },
     "output_type": "display_data"
    }
   ],
   "source": [
    "import matplotlib as plt\n",
    "df_monthavg = df_month.groupby('month_nbr').mean()\n",
    "df_monthavg[['win_per_day','win_per_int','pit_per_day','pit_per_int']].plot()\n",
    "#df_monthavg.wins_count.plot()\n",
    "\n",
    "df_monthavg.tail()\n",
    "#plt.plot(df.loc[:,\"month_nbr\"],df_month['win_per_day'])\n",
    "#print(df.loc[:,\"month_nbr\"])"
   ]
  },
  {
   "cell_type": "markdown",
   "metadata": {},
   "source": [
    "# The pitches per day are increasing but the wins per day is falling, so something else must be going on."
   ]
  },
  {
   "cell_type": "markdown",
   "metadata": {},
   "source": [
    "# Zoom in on the wins/interaction to see the trend. Wins per interaction are also decreasing. market is saturated?"
   ]
  },
  {
   "cell_type": "code",
   "execution_count": 42,
   "metadata": {},
   "outputs": [
    {
     "data": {
      "text/plain": [
       "<AxesSubplot:xlabel='month_nbr'>"
      ]
     },
     "execution_count": 42,
     "metadata": {},
     "output_type": "execute_result"
    },
    {
     "data": {
      "image/png": "[encoded data removed]",
      "text/plain": [
       "<Figure size 432x288 with 1 Axes>"
      ]
     },
     "metadata": {
      "needs_background": "light"
     },
     "output_type": "display_data"
    }
   ],
   "source": [
    "df_monthavg[['win_per_int','pit_per_int']].plot()"
   ]
  },
  {
   "cell_type": "code",
   "execution_count": 26,
   "metadata": {},
   "outputs": [
    {
     "data": {
      "text/plain": [
       "<AxesSubplot:>"
      ]
     },
     "execution_count": 26,
     "metadata": {},
     "output_type": "execute_result"
    },
    {
     "data": {
      "image/png": "[encoded data removed]",
      "text/plain": [
       "<Figure size 432x288 with 1 Axes>"
      ]
     },
     "metadata": {
      "needs_background": "light"
     },
     "output_type": "display_data"
    }
   ],
   "source": [
    "df_month.plot.box()"
   ]
  },
  {
   "cell_type": "code",
   "execution_count": 39,
   "metadata": {},
   "outputs": [
    {
     "data": {
      "text/plain": [
       "<AxesSubplot:xlabel='month_nbr'>"
      ]
     },
     "execution_count": 39,
     "metadata": {},
     "output_type": "execute_result"
    },
    {
     "data": {
      "image/png": "[encoded data removed]",
      "text/plain": [
       "<Figure size 432x288 with 1 Axes>"
      ]
     },
     "metadata": {
      "needs_background": "light"
     },
     "output_type": "display_data"
    }
   ],
   "source": [
    "df_monthavg.wins_count.plot()\n"
   ]
  },
  {
   "cell_type": "markdown",
   "metadata": {},
   "source": [
    "# Number of wins per month only started to tick up 6 months ago. Currently we are on a downswing, so is this expected from pre-covid?"
   ]
  },
  {
   "cell_type": "code",
   "execution_count": 45,
   "metadata": {},
   "outputs": [
    {
     "data": {
      "text/plain": [
       "<AxesSubplot:xlabel='month_nbr'>"
      ]
     },
     "execution_count": 45,
     "metadata": {},
     "output_type": "execute_result"
    },
    {
     "data": {
      "image/png": "[encoded data removed]",
      "text/plain": [
       "<Figure size 432x288 with 1 Axes>"
      ]
     },
     "metadata": {
      "needs_background": "light"
     },
     "output_type": "display_data"
    }
   ],
   "source": [
    "df_total_month = df.groupby('month_nbr').sum()\n",
    "df_total_month[['active_days', 'interactions_count', 'pitches_count', 'wins_count']].plot()"
   ]
  },
  {
   "cell_type": "markdown",
   "metadata": {},
   "source": [
    "# The overall number of pitches, interactions and wins is down. much be Christmas aka December."
   ]
  },
  {
   "cell_type": "code",
   "execution_count": null,
   "metadata": {},
   "outputs": [],
   "source": []
  }
 ],
 "metadata": {
  "kernelspec": {
   "display_name": "Python 3",
   "language": "python",
   "name": "python3"
  },
  "language_info": {
   "codemirror_mode": {
    "name": "ipython",
    "version": 3
   },
   "file_extension": ".py",
   "mimetype": "text/x-python",
   "name": "python",
   "nbconvert_exporter": "python",
   "pygments_lexer": "ipython3",
   "version": "3.7.9"
  }
 },
 "nbformat": 4,
 "nbformat_minor": 4
}
